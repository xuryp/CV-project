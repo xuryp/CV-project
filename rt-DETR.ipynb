{
  "nbformat": 4,
  "nbformat_minor": 0,
  "metadata": {
    "colab": {
      "provenance": [],
      "gpuType": "T4"
    },
    "kernelspec": {
      "name": "python3",
      "display_name": "Python 3"
    },
    "language_info": {
      "name": "python"
    },
    "accelerator": "GPU"
  },
  "cells": [
    {
      "cell_type": "code",
      "source": [
        "!pip install ultralytics"
      ],
      "metadata": {
        "id": "L99RqvyviVjJ"
      },
      "execution_count": null,
      "outputs": []
    },
    {
      "cell_type": "code",
      "execution_count": null,
      "metadata": {
        "id": "F2-ZYRvviHIC"
      },
      "outputs": [],
      "source": [
        "from ultralytics import RTDETR"
      ]
    },
    {
      "cell_type": "code",
      "source": [
        "model = RTDETR('rtdetr-l.pt')\n",
        "model.info()"
      ],
      "metadata": {
        "id": "YMk_dnnBie59"
      },
      "execution_count": null,
      "outputs": []
    },
    {
      "cell_type": "code",
      "source": [
        "results = model(\"/content/drive/MyDrive/CV_project/person_boat_V3.mp4\", show=True, save=True)"
      ],
      "metadata": {
        "id": "fhhai6xViwC_"
      },
      "execution_count": null,
      "outputs": []
    }
  ]
}